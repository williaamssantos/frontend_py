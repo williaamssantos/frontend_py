{
  "nbformat": 4,
  "nbformat_minor": 0,
  "metadata": {
    "colab": {
      "provenance": [],
      "mount_file_id": "166kqOibfrW6jKfZlho12yxfqD0iRGqKe",
      "authorship_tag": "ABX9TyPGXIyAd2Bm5wLSQYQ6AIlr"
    },
    "kernelspec": {
      "name": "python3",
      "display_name": "Python 3"
    },
    "language_info": {
      "name": "python"
    }
  },
  "cells": [
    {
      "cell_type": "code",
      "source": [
        "!pip install pandas"
      ],
      "metadata": {
        "colab": {
          "base_uri": "https://localhost:8080/"
        },
        "id": "n2PP6n0R4JfW",
        "outputId": "605c4994-4aca-4f0e-a685-190454897ae4"
      },
      "execution_count": null,
      "outputs": [
        {
          "output_type": "stream",
          "name": "stdout",
          "text": [
            "Looking in indexes: https://pypi.org/simple, https://us-python.pkg.dev/colab-wheels/public/simple/\n",
            "Requirement already satisfied: pandas in /usr/local/lib/python3.10/dist-packages (1.5.3)\n",
            "Requirement already satisfied: python-dateutil>=2.8.1 in /usr/local/lib/python3.10/dist-packages (from pandas) (2.8.2)\n",
            "Requirement already satisfied: pytz>=2020.1 in /usr/local/lib/python3.10/dist-packages (from pandas) (2022.7.1)\n",
            "Requirement already satisfied: numpy>=1.21.0 in /usr/local/lib/python3.10/dist-packages (from pandas) (1.22.4)\n",
            "Requirement already satisfied: six>=1.5 in /usr/local/lib/python3.10/dist-packages (from python-dateutil>=2.8.1->pandas) (1.16.0)\n"
          ]
        }
      ]
    },
    {
      "cell_type": "code",
      "source": [
        "!pip install pdfdocument"
      ],
      "metadata": {
        "colab": {
          "base_uri": "https://localhost:8080/"
        },
        "id": "JoUpKeBG9u9W",
        "outputId": "f02faed8-dd35-4451-d93e-2a09d8b62dc2"
      },
      "execution_count": null,
      "outputs": [
        {
          "output_type": "stream",
          "name": "stdout",
          "text": [
            "Looking in indexes: https://pypi.org/simple, https://us-python.pkg.dev/colab-wheels/public/simple/\n",
            "Collecting pdfdocument\n",
            "  Using cached pdfdocument-4.0.0-py2.py3-none-any.whl (10 kB)\n",
            "Collecting reportlab (from pdfdocument)\n",
            "  Using cached reportlab-4.0.0-py3-none-any.whl (1.9 MB)\n",
            "Collecting pillow>=9.0.0 (from reportlab->pdfdocument)\n",
            "  Using cached Pillow-9.5.0-cp310-cp310-manylinux_2_28_x86_64.whl (3.4 MB)\n",
            "Collecting rlPyCairo<1,>=0.2.0 (from reportlab->pdfdocument)\n",
            "  Using cached rlPyCairo-0.2.0-py3-none-any.whl (10 kB)\n",
            "Collecting freetype-py<2.4,>=2.3.0 (from reportlab->pdfdocument)\n",
            "  Using cached freetype_py-2.3.0-py3-none-manylinux_2_5_x86_64.manylinux1_x86_64.manylinux_2_12_x86_64.manylinux2010_x86_64.whl (978 kB)\n",
            "Collecting pycairo>=1.20.0 (from rlPyCairo<1,>=0.2.0->reportlab->pdfdocument)\n",
            "  Using cached pycairo-1.23.0.tar.gz (344 kB)\n",
            "  Installing build dependencies ... \u001b[?25l\u001b[?25hdone\n",
            "  Getting requirements to build wheel ... \u001b[?25l\u001b[?25hdone\n",
            "  Installing backend dependencies ... \u001b[?25l\u001b[?25hdone\n",
            "  Preparing metadata (pyproject.toml) ... \u001b[?25l\u001b[?25hdone\n",
            "Building wheels for collected packages: pycairo\n",
            "  \u001b[1;31merror\u001b[0m: \u001b[1msubprocess-exited-with-error\u001b[0m\n",
            "  \n",
            "  \u001b[31m×\u001b[0m \u001b[32mBuilding wheel for pycairo \u001b[0m\u001b[1;32m(\u001b[0m\u001b[32mpyproject.toml\u001b[0m\u001b[1;32m)\u001b[0m did not run successfully.\n",
            "  \u001b[31m│\u001b[0m exit code: \u001b[1;36m1\u001b[0m\n",
            "  \u001b[31m╰─>\u001b[0m See above for output.\n",
            "  \n",
            "  \u001b[1;35mnote\u001b[0m: This error originates from a subprocess, and is likely not a problem with pip.\n",
            "  Building wheel for pycairo (pyproject.toml) ... \u001b[?25l\u001b[?25herror\n",
            "\u001b[31m  ERROR: Failed building wheel for pycairo\u001b[0m\u001b[31m\n",
            "\u001b[0mFailed to build pycairo\n",
            "\u001b[31mERROR: Could not build wheels for pycairo, which is required to install pyproject.toml-based projects\u001b[0m\u001b[31m\n",
            "\u001b[0m"
          ]
        }
      ]
    },
    {
      "cell_type": "code",
      "source": [
        "!pip install --upgrade pip"
      ],
      "metadata": {
        "colab": {
          "base_uri": "https://localhost:8080/"
        },
        "id": "4K36WgXr-JzI",
        "outputId": "ef0b0b43-ec66-4d15-9ea6-ae9668de1f05"
      },
      "execution_count": null,
      "outputs": [
        {
          "output_type": "stream",
          "name": "stdout",
          "text": [
            "Looking in indexes: https://pypi.org/simple, https://us-python.pkg.dev/colab-wheels/public/simple/\n",
            "Requirement already satisfied: pip in /usr/local/lib/python3.10/dist-packages (23.1.2)\n"
          ]
        }
      ]
    },
    {
      "cell_type": "code",
      "source": [
        "import pandas as pd\n",
        "\n",
        "#inss\n",
        "def calculo_inss(salario_trabalhado):\n",
        "    if salario_trabalhado <= 1302.00:\n",
        "        inss = salario_trabalhado * 0.075\n",
        "    elif salario_trabalhado <= 2571.29:\n",
        "        inss = (1302.00 * 0.075) + ((salario_trabalhado - 1302.01) * 0.09)\n",
        "    elif salario_trabalhado <= 3856.94:\n",
        "        inss = (1302.00 * 0.075) + ((2571.29 - 1302.01) * 0.09) + ((salario_trabalhado - 2571.30) * 0.12)\n",
        "    elif salario_trabalhado <= 7507.49:\n",
        "        inss = (1302.00 * 0.075) + ((2571.29 - 1302.01) * 0.09) + ((3856.94 - 2571.30) * 0.12) + ((salario_trabalhado - 3856.95) * 0.14)\n",
        "    else:\n",
        "        inss = (1302.00 * 0.075) + ((2571.29 - 1302.01) * 0.09) + ((3856.94 - 2571.30) * 0.12) + ((7507.49 - 3856.95) * 0.14)\n",
        "    \n",
        "    return inss\n",
        "\n",
        "#def horas_extras()\n",
        "\n",
        "\n",
        "\n",
        "#salario familia\n",
        "def calculo_salario_familia(salario_trabalhado, dependentes):\n",
        "    base_familia = 0\n",
        "    \n",
        "    if salario_trabalhado <= 1754.18:\n",
        "        if dependentes <= 5:\n",
        "            base_familia = 59.82 * dependentes\n",
        "        else:\n",
        "            base_familia = 56.47 * dependentes\n",
        "\n",
        "    return base_familia\n",
        "\n",
        "#irrf\n",
        "def calculo_irrf(salario_trabalhado, dependentes):\n",
        "    inss = calculo_inss(salario_trabalhado)\n",
        "    base_irrf = (salario_trabalhado - inss - (dependentes * 189.59))\n",
        "\n",
        "    if base_irrf <= 1903.98:\n",
        "        irrf = 0\n",
        "    elif base_irrf <= 2826.65:\n",
        "        irrf = ((base_irrf * 0.075) - 142.80)\n",
        "    elif base_irrf <= 3751.05:\n",
        "        irrf = ((base_irrf * 0.15) - 354.80)\n",
        "    elif base_irrf <= 4664.68:\n",
        "        irrf = ((base_irrf * 0.225) - 636.13)\n",
        "    else:\n",
        "        irrf = ((base_irrf * 0.275) - 869.36)\n",
        "\n",
        "    return irrf\n",
        "\n",
        "# --------------------------------------------------------------------------------------------- #\n",
        "\n",
        "#armazenar os registros\n",
        "registros = []\n",
        "\n",
        "#loop para registros\n",
        "for _ in range(5):\n",
        "    funcionario = str(input(\"Digite o nome do funcionário: \"))\n",
        "    salario_bruto = float(input(\"Digite o salário bruto: \"))\n",
        "    dias_totais = 31 \n",
        "    dias_trabalhado = 28\n",
        "    dependentes = int(input(\"Digite a quantidade de dependentes: \"))\n",
        "    utiliza_vt = str(input(\"Utiliza Vale Transporte? (s/n): \"))\n",
        "    pensao_alimenticia = \"n\"\n",
        "    inss_patronal = \"s\"\n",
        "    sistema_s = \"s\"\n",
        "    rat = \"s\"\n",
        "\n",
        "    #calculos\n",
        "    salario_trabalhado = round((salario_bruto / dias_totais) * dias_trabalhado, 2)\n",
        "\n",
        "    dependentes_irrf = round((dependentes * 189.59), 2)\n",
        "\n",
        "    #valor pago por filho\n",
        "    valor_salario_familia = calculo_salario_familia(salario_trabalhado, dependentes)\n",
        "\n",
        "    salario_familia_por_filho = round(valor_salario_familia / dependentes, 2) if valor_salario_familia != 0 else 0.00\n",
        "\n",
        "#    print(\"Valor Pago por Filho: \", salario_familia_por_filho)\n",
        "#    print(\"Salario Familia: \", valor_salario_familia)\n",
        "\n",
        "    vt = round(salario_trabalhado * 0.06, 2) if utiliza_vt.lower() == \"s\" else 0.00\n",
        "    \n",
        "    base_inss = round(salario_trabalhado, 2)\n",
        "\n",
        "    inss = round(calculo_inss(salario_trabalhado) ,2) \n",
        "\n",
        "    base_irrf = round(salario_trabalhado - inss - (dependentes * 189.59), 2)\n",
        "\n",
        "    irrf = round(calculo_irrf(salario_trabalhado, dependentes), 2)\n",
        "\n",
        "    fgts = round(salario_trabalhado * 0.08, 2)\n",
        "\n",
        "    valor_pensao = round(((salario_trabalhado * 0.20) * dependentes), 2) if pensao_alimenticia.lower() == \"s\" else 0.00\n",
        "\n",
        "    valor_cpp_patronal = round((salario_trabalhado * 0.20), 2) if inss_patronal.lower() == \"s\" else 0.00\n",
        "\n",
        "    valor_sistema_s = round((salario_trabalhado * 0.20), 2) if sistema_s.lower() == \"s\" else 0.00\n",
        "\n",
        "    valor_rat = round((salario_trabalhado * 0.20), 2) if rat.lower() == \"s\" else 0.00\n",
        "\n",
        "    outras_despesas_prev = round((valor_cpp_patronal + valor_sistema_s + valor_rat),2)\n",
        "\n",
        "    salario_liquido = round(((salario_trabalhado + valor_salario_familia) - (inss + irrf + vt)), 2)\n",
        "\n",
        "    #valor pago por filho\n",
        "    if dependentes != 0:\n",
        "        valid_sl_familia = valor_salario_familia / dependentes\n",
        "\n",
        "        if valid_sl_familia == 0:\n",
        "            valid_sl_familia  = 0\n",
        "    else:\n",
        "        valid_sl_familia = 0\n",
        "\n",
        "#valores prints\n",
        "#    print(\"----------------------------------------------------------\")\n",
        "#    print(\"Salario Bruto (R$): \", salario_bruto)\n",
        "#    print(\"Salario Trabalhado (R$): \", salario_trabalhado)\n",
        "#    print(\"Base Salario Familia (R$): \", salario_trabalhado)\n",
        "#    print(\"Salario Familia (R$): \", valor_salario_familia)\n",
        "#    print(\"Valor Pago por filho (R$): \", salario_familia_por_filho)\n",
        "#    print(\"Base INSS (R$): \", salario_trabalhado)\n",
        "#    print(\"Dedução INSS (R$): \", inss)\n",
        "#    print(\"Base IRRF (R$): \", base_irrf)\n",
        "#    print(\"Dedução IRRF (R$): \", irrf)\n",
        "#    print(\"Valor Pensao (R$): \", valor_pensao)\n",
        "#    print(\"Dependentes IRRF (R$): \", dependentes_irrf)\n",
        "#    print(\"Vale Transporte (R$): \", vt)\n",
        "#    print(\"Salario Liquido (R$): \", salario_liquido)\n",
        "#    print(\"----------------------------------------------------------\")\n",
        "\n",
        "print(\"----------------------------------------------------------\")\n",
        "print(\"Salario Bruto (R$): \", salario_bruto)\n",
        "print(\"Salario Trabalhado (R$): \", salario_trabalhado)\n",
        "print(\"Base Salario Familia (R$): \", salario_trabalhado)\n",
        "print(\"Salario Familia (R$): \", valor_salario_familia)\n",
        "print(\"Valor Pago por filho (R$): \", salario_familia_por_filho)\n",
        "print(\"Base INSS (R$): \", salario_trabalhado)\n",
        "print(\"Dedução INSS (R$): \", inss)\n",
        "print(\"Base IRRF (R$): \", base_irrf)\n",
        "print(\"Dedução IRRF (R$): \", irrf)\n",
        "print(\"Valor Pensao (R$): \", valor_pensao)\n",
        "print(\"Dependentes IRRF (R$): \", dependentes_irrf)\n",
        "print(\"Vale Transporte (R$): \", vt)\n",
        "print(\"Salario Liquido (R$): \", salario_liquido)\n",
        "print(\"Outras despesas previdenciarias (R$): \", outras_despesas_prev)\n",
        "print(\"----------------------------------------------------------\")\n",
        "\n",
        "#    registro = {\n",
        "#        \"Funcionário\": funcionario,\n",
        "#        \"Salário Bruto\": salario_bruto,\n",
        "#        \"Salário Trabalhado\": salario_trabalhado,\n",
        "#        \"Base INSS\": salario_trabalhado,\n",
        "#        \"Dedução INSS\": inss,\n",
        "#        \"Base IRRF\": base_irrf,\n",
        "#        \"Dedução IRRF\": irrf,\n",
        "#        \"Dependentes IRRF\": dependentes_irrf,\n",
        "#        \"Valor Pensao\": valor_pensao,\n",
        "#        \"Vale Transporte\": vt,\n",
        "#        \"Salário Líquido\": salario_liquido,\n",
        "#        \"FGTS\": fgts\n",
        "#    }\n",
        "#    registros.append(registro)\n",
        "\n",
        "# Criar DataFrame a partir dos registros\n",
        "#df = pd.DataFrame(registros)\n",
        "\n",
        "# Substituir pontos por vírgulas em uma coluna específica\n",
        "#df['coluna'] = df['coluna'].str.replace('.', ',')\n",
        "\n",
        "#df['Funcionário'] = df['Funcionário'].str.replace('.', ',')\n",
        "#df['Salário Trabalhado'] = df['Salário Trabalhado'].str.replace('.', ',')\n",
        "#df['Base INSS'] = df['Base INSS'].str.replace('.', ',')\n",
        "#df['Dedução INSS'] = df['Dedução INSS'].str.replace('.', ',')\n",
        "#df['Base IRRF'] = df['Base IRRF'].str.replace('.', ',')\n",
        "#df['Dedução IRRF'] = df['Dedução IRRF'].str.replace('.', ',')\n",
        "#df['Dependentes IRRF'] = df['Dependentes IRRF'].str.replace('.', ',')\n",
        "#df['Valor Pensao'] = df['Valor Pensao'].str.replace('.', ',')\n",
        "#df['Vale Transporte'] = df['Vale Transporte'].str.replace('.', ',')\n",
        "#df['Salário Líquido'] = df['Salário Líquido'].str.replace('.', ',')\n",
        "# df['FGTS'] = df['FGTS'].str.replace('.', ',')\n",
        "\n",
        "    registro = {\n",
        "        \"Funcionário\": funcionario,\n",
        "        \"Salário Bruto\": salario_bruto,\n",
        "        \"Salário Trabalhado\": salario_trabalhado,\n",
        "        \"Base INSS\": salario_trabalhado,\n",
        "        \"Dedução INSS\": inss,\n",
        "        \"Base IRRF\": base_irrf,\n",
        "        \"Dedução IRRF\": irrf,\n",
        "        \"Dependentes IRRF\": dependentes_irrf,\n",
        "        \"Valor Pensao\": valor_pensao,\n",
        "        \"Vale Transporte\": vt,\n",
        "        \"Salário Líquido\": salario_liquido,\n",
        "      \"FGTS\": fgts\n",
        "    }\n",
        "    registros.append(registro)\n",
        "\n",
        "# Criar DataFrame a partir dos registros\n",
        "df = pd.DataFrame(registros)\n",
        "\n",
        "#percorrer e substituir ponto por vírgula\n",
        "for coluna in df.columns:\n",
        "    df[coluna] = df[coluna].astype(str).str.replace('.', ',')\n",
        "\n",
        "\n",
        "#Salvar DataFrame em um arquivo CSV\n",
        "df.to_csv(\"registros_funcionarios2.csv\", index=False)\n",
        "\n",
        "print(\"Arquivo Gerado com Sucesso!\")"
      ],
      "metadata": {
        "colab": {
          "base_uri": "https://localhost:8080/"
        },
        "id": "jmGLruWGgWN_",
        "outputId": "252ed7d3-b67a-490f-ac67-c7b5fee6f894"
      },
      "execution_count": 9,
      "outputs": [
        {
          "output_type": "stream",
          "name": "stdout",
          "text": [
            "Digite o nome do funcionário: Maria Lucia\n",
            "Digite o salário bruto: 2000\n",
            "Digite a quantidade de dependentes: 1\n",
            "Utiliza Vale Transporte? (s/n): s\n",
            "Digite o nome do funcionário: Jorge Antonio\n",
            "Digite o salário bruto: 3000\n",
            "Digite a quantidade de dependentes: 0\n",
            "Utiliza Vale Transporte? (s/n): s\n",
            "Digite o nome do funcionário: Miguel Antonio\n",
            "Digite o salário bruto: 4000\n",
            "Digite a quantidade de dependentes: 0\n",
            "Utiliza Vale Transporte? (s/n): n\n",
            "Digite o nome do funcionário: Luiza Tereza\n",
            "Digite o salário bruto: 10000\n",
            "Digite a quantidade de dependentes: 2\n",
            "Utiliza Vale Transporte? (s/n): n\n",
            "Digite o nome do funcionário: Jose Antonio\n",
            "Digite o salário bruto: 2000\n",
            "Digite a quantidade de dependentes: 0\n",
            "Utiliza Vale Transporte? (s/n): s\n",
            "----------------------------------------------------------\n",
            "Salario Bruto (R$):  2000.0\n",
            "Salario Trabalhado (R$):  1806.45\n",
            "Base Salario Familia (R$):  1806.45\n",
            "Salario Familia (R$):  0\n",
            "Valor Pago por filho (R$):  0.0\n",
            "Base INSS (R$):  1806.45\n",
            "Dedução INSS (R$):  143.05\n",
            "Base IRRF (R$):  1663.4\n",
            "Dedução IRRF (R$):  0\n",
            "Valor Pensao (R$):  0.0\n",
            "Dependentes IRRF (R$):  0.0\n",
            "Vale Transporte (R$):  108.39\n",
            "Salario Liquido (R$):  1555.01\n",
            "Outras despesas previdenciarias (R$):  1083.87\n",
            "----------------------------------------------------------\n",
            "Arquivo Gerado com Sucesso!\n"
          ]
        },
        {
          "output_type": "stream",
          "name": "stderr",
          "text": [
            "<ipython-input-9-4244857dd493>:206: FutureWarning: The default value of regex will change from True to False in a future version. In addition, single character regular expressions will *not* be treated as literal strings when regex=True.\n",
            "  df[coluna] = df[coluna].astype(str).str.replace('.', ',')\n"
          ]
        }
      ]
    },
    {
      "cell_type": "code",
      "source": [
        "!pip install datetime"
      ],
      "metadata": {
        "colab": {
          "base_uri": "https://localhost:8080/"
        },
        "id": "40oXVfr2eYk0",
        "outputId": "8ab4d1e6-d623-4b7f-de28-b4fb8ac22fe0"
      },
      "execution_count": null,
      "outputs": [
        {
          "output_type": "stream",
          "name": "stdout",
          "text": [
            "Looking in indexes: https://pypi.org/simple, https://us-python.pkg.dev/colab-wheels/public/simple/\n",
            "Collecting datetime\n",
            "  Downloading DateTime-5.1-py3-none-any.whl (52 kB)\n",
            "\u001b[2K     \u001b[90m━━━━━━━━━━━━━━━━━━━━━━━━━━━━━━━━━━━━━━━━\u001b[0m \u001b[32m52.1/52.1 kB\u001b[0m \u001b[31m4.4 MB/s\u001b[0m eta \u001b[36m0:00:00\u001b[0m\n",
            "\u001b[?25hCollecting zope.interface (from datetime)\n",
            "  Downloading zope.interface-6.0-cp310-cp310-manylinux_2_5_x86_64.manylinux1_x86_64.manylinux_2_17_x86_64.manylinux2014_x86_64.whl (246 kB)\n",
            "\u001b[2K     \u001b[90m━━━━━━━━━━━━━━━━━━━━━━━━━━━━━━━━━━━━━━\u001b[0m \u001b[32m247.0/247.0 kB\u001b[0m \u001b[31m24.9 MB/s\u001b[0m eta \u001b[36m0:00:00\u001b[0m\n",
            "\u001b[?25hRequirement already satisfied: pytz in /usr/local/lib/python3.10/dist-packages (from datetime) (2022.7.1)\n",
            "Requirement already satisfied: setuptools in /usr/local/lib/python3.10/dist-packages (from zope.interface->datetime) (67.7.2)\n",
            "Installing collected packages: zope.interface, datetime\n",
            "Successfully installed datetime-5.1 zope.interface-6.0\n"
          ]
        }
      ]
    },
    {
      "cell_type": "code",
      "source": [
        "from datetime import date, timedelta\n",
        "\n",
        "def horas_completa(horas, minutos, segundos):\n",
        "    return str(timedelta(hours=horas, minutes=minutos, seconds=segundos))\n",
        "\n",
        "#informações complementares\n",
        "horas = 2\n",
        "minutos = 51\n",
        "segundos = 14\n",
        "\n",
        "horas_completa = resultado(horas, minutos, segundos)\n",
        "horas_float = float(round(horas + (minutos / 60) + (segundos / 3600), 2))\n",
        "print(\"Horas Float: \", horas_float)\n",
        "print(\"Horas Normal: \", horas_completa)"
      ],
      "metadata": {
        "colab": {
          "base_uri": "https://localhost:8080/",
          "height": 235
        },
        "id": "ym6GNFEDdrFM",
        "outputId": "fddc08a4-6c87-4fb4-e923-0e4efbf3cead"
      },
      "execution_count": null,
      "outputs": [
        {
          "output_type": "error",
          "ename": "NameError",
          "evalue": "ignored",
          "traceback": [
            "\u001b[0;31m---------------------------------------------------------------------------\u001b[0m",
            "\u001b[0;31mNameError\u001b[0m                                 Traceback (most recent call last)",
            "\u001b[0;32m<ipython-input-6-5b8e5a4bf285>\u001b[0m in \u001b[0;36m<cell line: 11>\u001b[0;34m()\u001b[0m\n\u001b[1;32m      9\u001b[0m \u001b[0msegundos\u001b[0m \u001b[0;34m=\u001b[0m \u001b[0;36m14\u001b[0m\u001b[0;34m\u001b[0m\u001b[0;34m\u001b[0m\u001b[0m\n\u001b[1;32m     10\u001b[0m \u001b[0;34m\u001b[0m\u001b[0m\n\u001b[0;32m---> 11\u001b[0;31m \u001b[0mhoras_completa\u001b[0m \u001b[0;34m=\u001b[0m \u001b[0mresultado\u001b[0m\u001b[0;34m(\u001b[0m\u001b[0mhoras\u001b[0m\u001b[0;34m,\u001b[0m \u001b[0mminutos\u001b[0m\u001b[0;34m,\u001b[0m \u001b[0msegundos\u001b[0m\u001b[0;34m)\u001b[0m\u001b[0;34m\u001b[0m\u001b[0;34m\u001b[0m\u001b[0m\n\u001b[0m\u001b[1;32m     12\u001b[0m \u001b[0mhoras_float\u001b[0m \u001b[0;34m=\u001b[0m \u001b[0mfloat\u001b[0m\u001b[0;34m(\u001b[0m\u001b[0mround\u001b[0m\u001b[0;34m(\u001b[0m\u001b[0mhoras\u001b[0m \u001b[0;34m+\u001b[0m \u001b[0;34m(\u001b[0m\u001b[0mminutos\u001b[0m \u001b[0;34m/\u001b[0m \u001b[0;36m60\u001b[0m\u001b[0;34m)\u001b[0m \u001b[0;34m+\u001b[0m \u001b[0;34m(\u001b[0m\u001b[0msegundos\u001b[0m \u001b[0;34m/\u001b[0m \u001b[0;36m3600\u001b[0m\u001b[0;34m)\u001b[0m\u001b[0;34m,\u001b[0m \u001b[0;36m2\u001b[0m\u001b[0;34m)\u001b[0m\u001b[0;34m)\u001b[0m\u001b[0;34m\u001b[0m\u001b[0;34m\u001b[0m\u001b[0m\n\u001b[1;32m     13\u001b[0m \u001b[0mprint\u001b[0m\u001b[0;34m(\u001b[0m\u001b[0;34m\"Horas Float: \"\u001b[0m\u001b[0;34m,\u001b[0m \u001b[0mhoras_float\u001b[0m\u001b[0;34m)\u001b[0m\u001b[0;34m\u001b[0m\u001b[0;34m\u001b[0m\u001b[0m\n",
            "\u001b[0;31mNameError\u001b[0m: name 'resultado' is not defined"
          ]
        }
      ]
    },
    {
      "cell_type": "code",
      "source": [
        "from datetime import timedelta\n",
        "\n",
        "def horas_completa(horas, minutos, segundos):\n",
        "    return str(timedelta(hours=horas, minutes=minutos, seconds=segundos))\n",
        "\n",
        "# Informações complementares\n",
        "horas = 2\n",
        "minutos = 51\n",
        "segundos = 14\n",
        "\n",
        "#\n",
        "salario = 1050\n",
        "\n",
        "\n",
        "resultado = horas_completa(horas, minutos, segundos)\n",
        "horas_float = float(round(horas + (minutos / 60) + (segundos / 3600), 2))\n",
        "print(\"Horas Float: \", horas_float)\n",
        "print(\"Horas Normal: \", resultado)"
      ],
      "metadata": {
        "colab": {
          "base_uri": "https://localhost:8080/",
          "height": 244
        },
        "id": "KsEg_IMHhYSW",
        "outputId": "fdf5a865-1e2a-4bec-f210-eb388b8ab6c9"
      },
      "execution_count": null,
      "outputs": [
        {
          "output_type": "error",
          "ename": "NameError",
          "evalue": "ignored",
          "traceback": [
            "\u001b[0;31m---------------------------------------------------------------------------\u001b[0m",
            "\u001b[0;31mNameError\u001b[0m                                 Traceback (most recent call last)",
            "\u001b[0;32m<ipython-input-11-1eecc083e7fb>\u001b[0m in \u001b[0;36m<cell line: 11>\u001b[0;34m()\u001b[0m\n\u001b[1;32m      9\u001b[0m \u001b[0msegundos\u001b[0m \u001b[0;34m=\u001b[0m \u001b[0;36m14\u001b[0m\u001b[0;34m\u001b[0m\u001b[0;34m\u001b[0m\u001b[0m\n\u001b[1;32m     10\u001b[0m \u001b[0;34m\u001b[0m\u001b[0m\n\u001b[0;32m---> 11\u001b[0;31m \u001b[0mresultado\u001b[0m \u001b[0;34m=\u001b[0m \u001b[0mtime\u001b[0m\u001b[0;34m(\u001b[0m\u001b[0mhoras_completa\u001b[0m\u001b[0;34m(\u001b[0m\u001b[0mhoras\u001b[0m\u001b[0;34m,\u001b[0m \u001b[0mminutos\u001b[0m\u001b[0;34m,\u001b[0m \u001b[0msegundos\u001b[0m\u001b[0;34m)\u001b[0m\u001b[0;34m)\u001b[0m\u001b[0;34m\u001b[0m\u001b[0;34m\u001b[0m\u001b[0m\n\u001b[0m\u001b[1;32m     12\u001b[0m \u001b[0mhoras_float\u001b[0m \u001b[0;34m=\u001b[0m \u001b[0mfloat\u001b[0m\u001b[0;34m(\u001b[0m\u001b[0mround\u001b[0m\u001b[0;34m(\u001b[0m\u001b[0mhoras\u001b[0m \u001b[0;34m+\u001b[0m \u001b[0;34m(\u001b[0m\u001b[0mminutos\u001b[0m \u001b[0;34m/\u001b[0m \u001b[0;36m60\u001b[0m\u001b[0;34m)\u001b[0m \u001b[0;34m+\u001b[0m \u001b[0;34m(\u001b[0m\u001b[0msegundos\u001b[0m \u001b[0;34m/\u001b[0m \u001b[0;36m3600\u001b[0m\u001b[0;34m)\u001b[0m\u001b[0;34m,\u001b[0m \u001b[0;36m2\u001b[0m\u001b[0;34m)\u001b[0m\u001b[0;34m)\u001b[0m\u001b[0;34m\u001b[0m\u001b[0;34m\u001b[0m\u001b[0m\n\u001b[1;32m     13\u001b[0m \u001b[0mprint\u001b[0m\u001b[0;34m(\u001b[0m\u001b[0;34m\"Horas Float: \"\u001b[0m\u001b[0;34m,\u001b[0m \u001b[0mhoras_float\u001b[0m\u001b[0;34m)\u001b[0m\u001b[0;34m\u001b[0m\u001b[0;34m\u001b[0m\u001b[0m\n",
            "\u001b[0;31mNameError\u001b[0m: name 'time' is not defined"
          ]
        }
      ]
    },
    {
      "cell_type": "code",
      "source": [
        "from datetime import timedelta\n",
        "\n",
        "def horas_complemantares(horas, minutos, segundos):\n",
        "  return str(timedelta(hours=horas, minutes=minutos, seconds=segundos))\n",
        "\n",
        "# Inputs\n",
        "#horas = int(input(\"Insira as horas: \"))\n",
        "#minutos = int(input(\"Insira os minutos: \"))\n",
        "#segundos = int(input(\"Insira os segundos: \"))\n",
        "\n",
        "horas = 2 \n",
        "minutos = 51\n",
        "segundos = 14\n",
        "\n",
        "# Salário\n",
        "salario = 1050\n",
        "\n",
        "resultado = horas_complemantares(horas, minutos, segundos)\n",
        "horas_float = float(round(horas + (minutos / 60) + (segundos / 60), 2))\n",
        "salario_hora = round(salario / 220, 2)\n",
        "horas_extras = salario_hora * \n",
        "\n",
        "print(\"----------------------------------------\")\n",
        "print(\"Horas Float: \", horas_float)\n",
        "print(\"Horas Normal: \", resultado)\n",
        "print(\"Salários por Horas (R$): \", salario_hora)\n",
        "\n",
        "print(\"----------------------------------------\")\n",
        "\n"
      ],
      "metadata": {
        "colab": {
          "base_uri": "https://localhost:8080/"
        },
        "id": "AaH5_V-gRUcC",
        "outputId": "493bd6fb-c689-4b15-ed38-23a572e3a496"
      },
      "execution_count": null,
      "outputs": [
        {
          "output_type": "stream",
          "name": "stdout",
          "text": [
            "----------------------------------------\n",
            "Horas Float:  3.08\n",
            "Horas Normal:  2:51:14\n",
            "Salários por Horas (R$):  4.77\n",
            "----------------------------------------\n"
          ]
        }
      ]
    },
    {
      "cell_type": "code",
      "source": [],
      "metadata": {
        "id": "LVTZjaQ7cpsd"
      },
      "execution_count": null,
      "outputs": []
    },
    {
      "cell_type": "code",
      "source": [
        "def calcular_horas_extras(tempo_horas_extras, salario):\n",
        "    # Converter o tempo das horas extras para minutos\n",
        "    horas, minutos, segundos = map(int, tempo_horas_extras.split(':'))\n",
        "    minutos_totais = horas * 60 + minutos\n",
        "\n",
        "    # Calcular o salário por hora regular\n",
        "    horas_regulares = 220  # Altere de acordo com o número de horas regulares por mês\n",
        "    salario_hora_regular = salario / horas_regulares\n",
        "\n",
        "    # Calcular o salário por hora extra\n",
        "    taxa_hora_extra = 1.5  # Altere de acordo com a taxa de pagamento por hora extra\n",
        "    salario_hora_extra = salario_hora_regular * taxa_hora_extra\n",
        "\n",
        "    # Calcular o valor das horas extras\n",
        "    valor_horas_extras = salario_hora_extra * minutos_totais\n",
        "\n",
        "    return valor_horas_extras\n",
        "\n",
        "\n",
        "tempo_horas_extras = \"2:51:14\"\n",
        "salario = 1050\n",
        "\n",
        "valor_total_horas_extras = round(calcular_horas_extras(tempo_horas_extras, salario), 2)\n",
        "valor_horas_extras = round(valor_total_horas_extras - salario, 2)\n",
        "\n",
        "print(\"O valor das horas extras é:\", valor_horas_extras)"
      ],
      "metadata": {
        "colab": {
          "base_uri": "https://localhost:8080/"
        },
        "id": "FOOn8Dhkgaao",
        "outputId": "42def6a0-02df-4f41-b40d-206561c71fb2"
      },
      "execution_count": null,
      "outputs": [
        {
          "output_type": "stream",
          "name": "stdout",
          "text": [
            "O valor das horas extras é: 174.2\n"
          ]
        }
      ]
    },
    {
      "cell_type": "code",
      "source": [
        "for _ in range(5):\n",
        "    funcionario = str(input(\"Digite o nome do funcionário: \"))\n",
        "    salario_bruto = float(input(\"Digite o salário bruto: \"))\n",
        "    dias_totais = 31 \n",
        "    dias_trabalhado = 28\n",
        "    dependentes = int(input(\"Digite a quantidade de dependentes: \"))\n",
        "    utiliza_vt = str(input(\"Utiliza Vale Transporte? (s/n): \"))\n",
        "    pensao_alimenticia = str(input(\"Tem pensão alimentícia por ordem judicial? (s/n):\"))\n",
        "    inss_patronal = str(input(\"Incidência de INSS Patronal? (s/n): \"))\n",
        "    sistema_s = str(input(\"Incidência de Sistema S? (s/n): \"))\n",
        "    rat = str(input(\"Incidência de RAT? (s/n): \"))"
      ],
      "metadata": {
        "colab": {
          "base_uri": "https://localhost:8080/",
          "height": 380
        },
        "id": "V8fmdj9kFBsn",
        "outputId": "b9f9951d-e425-4a3d-92d9-6f4737a0a6a0"
      },
      "execution_count": 7,
      "outputs": [
        {
          "output_type": "error",
          "ename": "KeyboardInterrupt",
          "evalue": "ignored",
          "traceback": [
            "\u001b[0;31m---------------------------------------------------------------------------\u001b[0m",
            "\u001b[0;31mKeyboardInterrupt\u001b[0m                         Traceback (most recent call last)",
            "\u001b[0;32m<ipython-input-7-56dac510f4e6>\u001b[0m in \u001b[0;36m<cell line: 1>\u001b[0;34m()\u001b[0m\n\u001b[1;32m      1\u001b[0m \u001b[0;32mfor\u001b[0m \u001b[0m_\u001b[0m \u001b[0;32min\u001b[0m \u001b[0mrange\u001b[0m\u001b[0;34m(\u001b[0m\u001b[0;36m5\u001b[0m\u001b[0;34m)\u001b[0m\u001b[0;34m:\u001b[0m\u001b[0;34m\u001b[0m\u001b[0;34m\u001b[0m\u001b[0m\n\u001b[0;32m----> 2\u001b[0;31m     \u001b[0mfuncionario\u001b[0m \u001b[0;34m=\u001b[0m \u001b[0mstr\u001b[0m\u001b[0;34m(\u001b[0m\u001b[0minput\u001b[0m\u001b[0;34m(\u001b[0m\u001b[0;34m\"Digite o nome do funcionário: \"\u001b[0m\u001b[0;34m)\u001b[0m\u001b[0;34m)\u001b[0m\u001b[0;34m\u001b[0m\u001b[0;34m\u001b[0m\u001b[0m\n\u001b[0m\u001b[1;32m      3\u001b[0m     \u001b[0msalario_bruto\u001b[0m \u001b[0;34m=\u001b[0m \u001b[0mfloat\u001b[0m\u001b[0;34m(\u001b[0m\u001b[0minput\u001b[0m\u001b[0;34m(\u001b[0m\u001b[0;34m\"Digite o salário bruto: \"\u001b[0m\u001b[0;34m)\u001b[0m\u001b[0;34m)\u001b[0m\u001b[0;34m\u001b[0m\u001b[0;34m\u001b[0m\u001b[0m\n\u001b[1;32m      4\u001b[0m     \u001b[0mdias_totais\u001b[0m \u001b[0;34m=\u001b[0m \u001b[0;36m31\u001b[0m\u001b[0;34m\u001b[0m\u001b[0;34m\u001b[0m\u001b[0m\n\u001b[1;32m      5\u001b[0m     \u001b[0mdias_trabalhado\u001b[0m \u001b[0;34m=\u001b[0m \u001b[0;36m28\u001b[0m\u001b[0;34m\u001b[0m\u001b[0;34m\u001b[0m\u001b[0m\n",
            "\u001b[0;32m/usr/local/lib/python3.10/dist-packages/ipykernel/kernelbase.py\u001b[0m in \u001b[0;36mraw_input\u001b[0;34m(self, prompt)\u001b[0m\n\u001b[1;32m    849\u001b[0m                 \u001b[0;34m\"raw_input was called, but this frontend does not support input requests.\"\u001b[0m\u001b[0;34m\u001b[0m\u001b[0;34m\u001b[0m\u001b[0m\n\u001b[1;32m    850\u001b[0m             )\n\u001b[0;32m--> 851\u001b[0;31m         return self._input_request(str(prompt),\n\u001b[0m\u001b[1;32m    852\u001b[0m             \u001b[0mself\u001b[0m\u001b[0;34m.\u001b[0m\u001b[0m_parent_ident\u001b[0m\u001b[0;34m,\u001b[0m\u001b[0;34m\u001b[0m\u001b[0;34m\u001b[0m\u001b[0m\n\u001b[1;32m    853\u001b[0m             \u001b[0mself\u001b[0m\u001b[0;34m.\u001b[0m\u001b[0m_parent_header\u001b[0m\u001b[0;34m,\u001b[0m\u001b[0;34m\u001b[0m\u001b[0;34m\u001b[0m\u001b[0m\n",
            "\u001b[0;32m/usr/local/lib/python3.10/dist-packages/ipykernel/kernelbase.py\u001b[0m in \u001b[0;36m_input_request\u001b[0;34m(self, prompt, ident, parent, password)\u001b[0m\n\u001b[1;32m    893\u001b[0m             \u001b[0;32mexcept\u001b[0m \u001b[0mKeyboardInterrupt\u001b[0m\u001b[0;34m:\u001b[0m\u001b[0;34m\u001b[0m\u001b[0;34m\u001b[0m\u001b[0m\n\u001b[1;32m    894\u001b[0m                 \u001b[0;31m# re-raise KeyboardInterrupt, to truncate traceback\u001b[0m\u001b[0;34m\u001b[0m\u001b[0;34m\u001b[0m\u001b[0m\n\u001b[0;32m--> 895\u001b[0;31m                 \u001b[0;32mraise\u001b[0m \u001b[0mKeyboardInterrupt\u001b[0m\u001b[0;34m(\u001b[0m\u001b[0;34m\"Interrupted by user\"\u001b[0m\u001b[0;34m)\u001b[0m \u001b[0;32mfrom\u001b[0m \u001b[0;32mNone\u001b[0m\u001b[0;34m\u001b[0m\u001b[0;34m\u001b[0m\u001b[0m\n\u001b[0m\u001b[1;32m    896\u001b[0m             \u001b[0;32mexcept\u001b[0m \u001b[0mException\u001b[0m \u001b[0;32mas\u001b[0m \u001b[0me\u001b[0m\u001b[0;34m:\u001b[0m\u001b[0;34m\u001b[0m\u001b[0;34m\u001b[0m\u001b[0m\n\u001b[1;32m    897\u001b[0m                 \u001b[0mself\u001b[0m\u001b[0;34m.\u001b[0m\u001b[0mlog\u001b[0m\u001b[0;34m.\u001b[0m\u001b[0mwarning\u001b[0m\u001b[0;34m(\u001b[0m\u001b[0;34m\"Invalid Message:\"\u001b[0m\u001b[0;34m,\u001b[0m \u001b[0mexc_info\u001b[0m\u001b[0;34m=\u001b[0m\u001b[0;32mTrue\u001b[0m\u001b[0;34m)\u001b[0m\u001b[0;34m\u001b[0m\u001b[0;34m\u001b[0m\u001b[0m\n",
            "\u001b[0;31mKeyboardInterrupt\u001b[0m: Interrupted by user"
          ]
        }
      ]
    }
  ]
}